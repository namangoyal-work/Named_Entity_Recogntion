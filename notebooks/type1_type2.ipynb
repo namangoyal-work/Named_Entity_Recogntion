{
 "cells": [
  {
   "cell_type": "code",
   "execution_count": 1,
   "id": "457a1adc-5924-43c6-a314-36dd84c1f5d1",
   "metadata": {},
   "outputs": [],
   "source": [
    "import torch\n",
    "from torch.utils.data import Dataset, DataLoader\n",
    "\n",
    "import numpy as np\n",
    "import json"
   ]
  },
  {
   "cell_type": "code",
   "execution_count": 26,
   "id": "ab0bdcbf-c593-4959-8e47-75d112212553",
   "metadata": {},
   "outputs": [],
   "source": [
    "def count_types(filename):\n",
    "\n",
    "    n_type0  = 0\n",
    "    n_type1 = 0\n",
    "    n_type2 = 0\n",
    "    with open(filename, 'r') as f:\n",
    "        tags = set()\n",
    "        for l in f:\n",
    "            if l == '\\n':\n",
    "                if len(tags) == 1:\n",
    "                    n_type0 += 1\n",
    "                elif len(tags) > 2:\n",
    "                    n_type2 += 1\n",
    "                else:\n",
    "                    n_type1 += 1\n",
    "                tags = set()\n",
    "            else:\n",
    "                token, cls = l.strip().split('\\t')\n",
    "                cls_type = cls.split('-')[-1]\n",
    "                # print(cls_type)\n",
    "                tags.add(cls_type.strip().lower())\n",
    "\n",
    "        if tags:\n",
    "            if len(tags) == 1:\n",
    "                n_type0 += 1\n",
    "            elif len(tags) > 2:\n",
    "                n_type2 += 1\n",
    "            else:\n",
    "                n_type1 += 1\n",
    "    \n",
    "    return n_type0, n_type1, n_type2"
   ]
  },
  {
   "cell_type": "code",
   "execution_count": 27,
   "id": "a4bbf254-3b76-458d-98e8-514f2837e404",
   "metadata": {},
   "outputs": [
    {
     "data": {
      "text/plain": [
       "(20542, 17864, 0)"
      ]
     },
     "execution_count": 27,
     "metadata": {},
     "output_type": "execute_result"
    }
   ],
   "source": [
    "count_types('../data/train_old.txt')"
   ]
  },
  {
   "cell_type": "code",
   "execution_count": 28,
   "id": "0ab1e4d0-5ce2-4020-8322-2323b4049317",
   "metadata": {},
   "outputs": [
    {
     "data": {
      "text/plain": [
       "(4153, 4135, 737)"
      ]
     },
     "execution_count": 28,
     "metadata": {},
     "output_type": "execute_result"
    }
   ],
   "source": [
    "count_types('../data/dev_old.txt')"
   ]
  },
  {
   "cell_type": "code",
   "execution_count": null,
   "id": "d6e76477-3b7d-41d4-82bd-613a95fc3eda",
   "metadata": {},
   "outputs": [],
   "source": []
  }
 ],
 "metadata": {
  "kernelspec": {
   "display_name": "Python 3 (ipykernel)",
   "language": "python",
   "name": "python3"
  },
  "language_info": {
   "codemirror_mode": {
    "name": "ipython",
    "version": 3
   },
   "file_extension": ".py",
   "mimetype": "text/x-python",
   "name": "python",
   "nbconvert_exporter": "python",
   "pygments_lexer": "ipython3",
   "version": "3.9.16"
  }
 },
 "nbformat": 4,
 "nbformat_minor": 5
}
